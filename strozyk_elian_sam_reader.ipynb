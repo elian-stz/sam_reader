{
 "cells": [
  {
   "cell_type": "markdown",
   "id": "a4e1a04c",
   "metadata": {},
   "source": [
    "# File's quality checking\n",
    "MAIN() IS BELOW\n",
    "Thorough checking of the file's quality\n",
    "What's checked:\n",
    "    file ends in .sam\n",
    "        Header:\n",
    "            The very first character is an '@'\n",
    "        Body:\n",
    "            File contains at least 11 sections split with \\t so 10 \\t in total"
   ]
  },
  {
   "cell_type": "code",
   "execution_count": 6,
   "id": "5dc29a65",
   "metadata": {},
   "outputs": [],
   "source": [
    "def nameEndsInSAM(file) :\n",
    "    # Check whether the file ends in '.sam'\n",
    "    print(\"Checking file's extension:\", end=' ')\n",
    "    if file.endswith(\".sam\") :\n",
    "        print(\"done\")\n",
    "        return True\n",
    "    else : \n",
    "        print(\"The file submitted does not have the correct extension.\\nMake sure the file ends with '.sam'.\")\n",
    "        return False"
   ]
  },
  {
   "cell_type": "code",
   "execution_count": null,
   "id": "6dc14b22",
   "metadata": {},
   "outputs": [],
   "source": [
    "def StartsWithAnAtSymbol(file) :\n",
    "    # Check whether the very first character is an '@'\n",
    "    print(\"Checking file's header:\", end=' ')\n",
    "    if file[0] == \"@\" :\n",
    "        print(\"done\")\n",
    "        return True\n",
    "    else :\n",
    "        print(\"The file submitted does not contain a header whose first line starts with an '@'.\")\n",
    "        return False"
   ]
  },
  {
   "cell_type": "code",
   "execution_count": null,
   "id": "a7363b66",
   "metadata": {},
   "outputs": [],
   "source": [
    "def tabNumberChecking(file) :\n",
    "    # Counting number of \\t (at least 10) in the very first line of the file's body\n",
    "    print(\"Checking column number:\", end=' ')\n",
    "    tab_counter = 0\n",
    "\n",
    "    for character in file[0] :\n",
    "        if character == \"\\t\" :\n",
    "            tab_counter += 1\n",
    "\n",
    "    if tab_counter > 10 :\n",
    "        print(\"done\")\n",
    "        return True\n",
    "    else :\n",
    "        print(\"The file does not contain enough columns. It must have at least 11 columns.\")\n",
    "        return False"
   ]
  },
  {
   "cell_type": "markdown",
   "id": "23faaa06",
   "metadata": {},
   "source": [
    "# Storing up file's body content\n",
    "\n",
    "After checking file's quality:\n",
    "    file's body is extracted\n",
    "    file's data are stored in a dictionary"
   ]
  },
  {
   "cell_type": "code",
   "execution_count": null,
   "id": "cc5dac7f",
   "metadata": {},
   "outputs": [],
   "source": [
    "def ExtractsFileBody(file) :\n",
    "    # extract file's body while removing lines starting with '@'\n",
    "    print(\"Extracting file's body:\", end=' ')\n",
    "    file = file.split(\"\\n\") # listification after each '\\n'\n",
    "    file_body = []\n",
    "\n",
    "    for line in file :\n",
    "        x = re.findall(\"^@\", line)\n",
    "        if not x :\n",
    "            file_body.append(line)\n",
    "    print(\"done\")\n",
    "    return file_body"
   ]
  },
  {
   "cell_type": "code",
   "execution_count": null,
   "id": "3f886fd0",
   "metadata": {},
   "outputs": [],
   "source": [
    "def dictionaryCreation(file) :\n",
    "    # Creating dictionary while taking care of duplicate reads\n",
    "    print(\"Creating dictionary:\", end=' ')\n",
    "    reads = []\n",
    "    readData = []\n",
    "    dictionary = {}\n",
    "    \n",
    "    for line in file :\n",
    "        reads.append(line.split(\"\\t\")[0])\n",
    "        readData.append(line.split(\"\\t\")[1:6])\n",
    "\n",
    "    # Renaming reads if one's name is similar. \n",
    "    # /!\\ This method does not work if more than two reads with the same name\n",
    "    ## If so, read names are redundant, still\n",
    "    readsUnique = []\n",
    "    for i in range(0, len(reads) - 1) :\n",
    "        if reads[i] == reads[i + 1] :\n",
    "            readsUnique.append(reads[i])\n",
    "        else :\n",
    "            readsUnique.append(reads[i] + \";2\")\n",
    "\n",
    "    # dictionary creation\n",
    "    dictionary = dict(zip(readsUnique, readData))\n",
    "    print(\"done\")\n",
    "    return dictionary"
   ]
  },
  {
   "cell_type": "markdown",
   "id": "73592b19",
   "metadata": {},
   "source": [
    "# Analysis of file's content\n",
    "\n",
    " Extracts and translates FLAG\n",
    " Filters mapping quality of reads\n",
    " Filters reads whose CIGAR are matched at 100%"
   ]
  },
  {
   "cell_type": "code",
   "execution_count": 7,
   "id": "1e2b6728",
   "metadata": {},
   "outputs": [
    {
     "data": {
      "text/plain": [
       "2"
      ]
     },
     "execution_count": 7,
     "metadata": {},
     "output_type": "execute_result"
    }
   ],
   "source": [
    "# The following function does work BUT\n",
    "## It should have returned a list of binaries and not a single binary\n",
    "## Either way, probably unoptimised\n",
    "def flagToBinary(flag) :\n",
    "    # Translates a FLAG to a decimal\n",
    "    # flag checking\n",
    "    if flag < 1 or flag > 2048 :\n",
    "        return 0\n",
    "    \n",
    "    # creation of an ordered list containing all powers of 2 from 1 to 2048\n",
    "    binary_list = []\n",
    "    for i in range(0, 12) :\n",
    "        binary_list.append(pow(2, i))\n",
    "\n",
    "    # calculation of the number to substract \n",
    "    # frame the flag (find the maximal_min and minimal_max within the list)\n",
    "    for a in range(0, len(binary_list)) :\n",
    "        if ((binary_list[a] < flag) and (binary_list[a + 1] > flag)) or binary_list[a] == flag :\n",
    "            numberToSubstract = binary_list[a]\n",
    "    \n",
    "    # recursive substraction\n",
    "    listBinary = []\n",
    "    if flag - numberToSubstract != 0 :\n",
    "        return flagToBinary(flag - numberToSubstract)\n",
    "    else :\n",
    "        return flag\n",
    "flagToBinary(2022)"
   ]
  },
  {
   "cell_type": "code",
   "execution_count": null,
   "id": "aea1d1bb",
   "metadata": {},
   "outputs": [],
   "source": [
    "flagAnalysis(dictionary, decimal) :\n",
    "    # decimal == 1 : reads paired\n",
    "    # decimal == 2 : reads mapped in proper pair\n",
    "    ## for decimal == 2, should also check distance between reads < 150\n",
    "    counter = 0\n",
    "    for key in dictionary :\n",
    "        if decimal == 1 :\n",
    "            if int(dictionary[key][0]) & 1 == 1 :\n",
    "                counter += 1\n",
    "        if decimal == 2 :\n",
    "            if int(dictionary[key][0]) & 2 == 2 :\n",
    "                        counter += 1\n",
    "            \n",
    "            #for i in dictionary[i] :\n",
    "            #        if abs(dictionary[i][2] - dictionary[i+1][2]) < 150 :\n",
    "            #           counter += 1\n",
    "    \n",
    "    # '& decimal == decimal': never would I have found it without Arnaud Soulier\n",
    "    # and my function flagToBinary() does not work correctly\n",
    "    \n",
    "    if decimal == 1 :\n",
    "        return f'Number of paired reads: {counter}'\n",
    "    elif decimal == 2 : # and distance <= 150\n",
    "        return f'Number of reads mapped in proper pair: {counter}'"
   ]
  },
  {
   "cell_type": "code",
   "execution_count": null,
   "id": "40781016",
   "metadata": {},
   "outputs": [],
   "source": [
    "def filterMappingQuality(dictionary) :\n",
    "    # filters mapping quality depending on an input threshold (or not)\n",
    "    counter = 0\n",
    "    print(\"\\tFiltering reads\", end = ' ')\n",
    "    qualityThreshold = input(\"\\n\\t\\tInsert a mapping quality threshold between 0% and 100%. Base threshold is 20%.\")\n",
    "    \n",
    "    # threshold's checking not monkeyproof that much\n",
    "    if len(qualityThreshold) == 0 : #or not (int(qualityThreshold) >= 0 and int(qualityThreshold) >= 100) :\n",
    "        qualityThreshold = 20\n",
    "    else : \n",
    "        qualityThreshold = int(qualityThreshold)\n",
    "    \n",
    "    for key in dictionary :\n",
    "        if int(dictionary[key][3]) >= qualityThreshold :\n",
    "            counter += 1\n",
    "    print(\"done\")\n",
    "    return f'Number of reads with a mapping quality greater than or equals to {qualityThreshold}%: {counter}'"
   ]
  },
  {
   "cell_type": "code",
   "execution_count": null,
   "id": "ae6f0b84",
   "metadata": {},
   "outputs": [],
   "source": [
    "def CIGARanalysis(dictionary) :\n",
    "    # filters out reads whose CIGAR is not matched at 100%\n",
    "    counter = 0\n",
    "    print(\"\\tCounting number of totally aligned reads\", end=' ')\n",
    "    for key in dictionary :\n",
    "        if re.findall(\"^[0-9][0-9][0-9]M$\", dictionary[key][4]) or re.findall(\"^[0-9][0-9]M$\", dictionary[key][4]) :\n",
    "            counter += 1\n",
    "    print(\"done\")\n",
    "    return f'Number of totally aligned reads: {counter}'"
   ]
  },
  {
   "cell_type": "markdown",
   "id": "5ebd3fdb",
   "metadata": {},
   "source": [
    "# Output"
   ]
  },
  {
   "cell_type": "code",
   "execution_count": null,
   "id": "642a156d",
   "metadata": {},
   "outputs": [],
   "source": [
    "def makeOutput(dictionary) :\n",
    "    print(\"Making summary file...\")\n",
    "\n",
    "    # see dictionaryCreation(): does not work when reads are present more than twice\n",
    "    counter = 0\n",
    "    for key in dictionary :\n",
    "        if not re.findall(\";2$\", key) :\n",
    "            counter += 1\n",
    "\n",
    "    # Writing the new file\n",
    "    with open(f'{sys.argv[1]}_summary.txt', \"w\") as output :\n",
    "        output.write(f'Total number of reads: {len(dictionary)}\\n')\n",
    "        output.write(f'Number of different reads: {counter}\\n')\n",
    "        output.write(f'{flagAnalysis(dictionary, 1)}\\n')\n",
    "        output.write(f'{flagAnalysis(dictionary, 2)}\\n')\n",
    "        output.write(f'{filterMappingQuality(dictionary)}\\n')\n",
    "        output.write(f'{CIGARanalysis(dictionary)}')\n",
    "    print(f\"The output is located in ./{sys.argv[1]}_summary.txt\")"
   ]
  },
  {
   "cell_type": "markdown",
   "id": "19096740",
   "metadata": {},
   "source": [
    "# main()"
   ]
  },
  {
   "cell_type": "code",
   "execution_count": 8,
   "id": "3f6394bb",
   "metadata": {},
   "outputs": [
    {
     "name": "stdout",
     "output_type": "stream",
     "text": [
      "Checking file's extension: The file submitted does not have the correct extension.\n",
      "Make sure the file ends with '.sam'.\n"
     ]
    }
   ],
   "source": [
    "import sys, re\n",
    "\n",
    "def main(file) :\n",
    "    if nameEndsInSAM(file) :\n",
    "        with open(file, \"r\") as fd :\n",
    "            file_sam = fd.read()\n",
    "            if StartsWithAnAtSymbol(file_sam) :\n",
    "                file_body = ExtractsFileBody(file_sam)\n",
    "                if tabNumberChecking(file_body) :\n",
    "                    dictionary = dictionaryCreation(file_body)\n",
    "                    makeOutput(dictionary)\n",
    "                    \n",
    "\n",
    "main(sys.argv[1]) "
   ]
  },
  {
   "cell_type": "code",
   "execution_count": null,
   "id": "ad34724c",
   "metadata": {},
   "outputs": [],
   "source": []
  }
 ],
 "metadata": {
  "kernelspec": {
   "display_name": "Python 3 (ipykernel)",
   "language": "python",
   "name": "python3"
  },
  "language_info": {
   "codemirror_mode": {
    "name": "ipython",
    "version": 3
   },
   "file_extension": ".py",
   "mimetype": "text/x-python",
   "name": "python",
   "nbconvert_exporter": "python",
   "pygments_lexer": "ipython3",
   "version": "3.10.6"
  }
 },
 "nbformat": 4,
 "nbformat_minor": 5
}
